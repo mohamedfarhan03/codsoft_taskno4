{
  "nbformat": 4,
  "nbformat_minor": 0,
  "metadata": {
    "colab": {
      "provenance": []
    },
    "kernelspec": {
      "name": "python3",
      "display_name": "Python 3"
    },
    "language_info": {
      "name": "python"
    }
  },
  "cells": [
    {
      "cell_type": "code",
      "execution_count": null,
      "metadata": {
        "colab": {
          "base_uri": "https://localhost:8080/"
        },
        "id": "kzChgrBwep5Z",
        "outputId": "ed622b1a-1dbb-4283-ff6a-5a44fbbb2460"
      },
      "outputs": [
        {
          "output_type": "stream",
          "name": "stdout",
          "text": [
            "Recommended Movies:\n",
            "Interstellar\n",
            "The Dark Knight\n",
            "The Matrix\n"
          ]
        }
      ],
      "source": [
        "import pandas as pd\n",
        "from sklearn.feature_extraction.text import TfidfVectorizer\n",
        "from sklearn.metrics.pairwise import linear_kernel\n",
        "\n",
        "# Sample movie dataset\n",
        "data = {\n",
        "    'movie_id': [1, 2, 3, 4, 5],\n",
        "    'title': ['Inception', 'The Matrix', 'Interstellar', 'The Dark Knight', 'Pulp Fiction'],\n",
        "    'genre': ['Sci-Fi', 'Sci-Fi', 'Sci-Fi', 'Action', 'Crime']\n",
        "}\n",
        "\n",
        "# Create DataFrame\n",
        "df = pd.DataFrame(data)\n",
        "\n",
        "# User preferences (e.g., preferred genres)\n",
        "user_preferences = ['Sci-Fi']\n",
        "\n",
        "# Function to recommend movies based on content-based filtering\n",
        "def recommend_movies(user_preferences, df):\n",
        "    # Convert user preferences to a DataFrame\n",
        "    user_pref_df = pd.DataFrame({'genre': user_preferences})\n",
        "\n",
        "    # Combine user preferences with movie dataset\n",
        "    df['genre_combined'] = df['genre'].apply(lambda x: ' '.join([x]))\n",
        "\n",
        "    # Create a TF-IDF Vectorizer and transform the genres\n",
        "    tfidf_vectorizer = TfidfVectorizer()\n",
        "    tfidf_matrix = tfidf_vectorizer.fit_transform(df['genre_combined'])\n",
        "\n",
        "    # Compute similarity matrix\n",
        "    cosine_sim = linear_kernel(tfidf_matrix, tfidf_matrix)\n",
        "\n",
        "    # Function to get recommendations\n",
        "    def get_recommendations(title, cosine_sim=cosine_sim):\n",
        "        idx = df.index[df['title'] == title].tolist()[0]\n",
        "        sim_scores = list(enumerate(cosine_sim[idx]))\n",
        "        sim_scores = sorted(sim_scores, key=lambda x: x[1], reverse=True)\n",
        "        sim_scores = sim_scores[1:4]\n",
        "        movie_indices = [i[0] for i in sim_scores]\n",
        "        return df['title'].iloc[movie_indices]\n",
        "\n",
        "    # Get recommendations for each user preference\n",
        "    recommendations = []\n",
        "    for genre in user_preferences:\n",
        "        df_filtered = df[df['genre'] == genre]\n",
        "        for title in df_filtered['title']:\n",
        "            recs = get_recommendations(title)\n",
        "            recommendations.extend(recs)\n",
        "\n",
        "    # Remove duplicates and return recommendations\n",
        "    return list(set(recommendations))\n",
        "\n",
        "# Get recommendations\n",
        "recommended_movies = recommend_movies(user_preferences, df)\n",
        "print(\"Recommended Movies:\")\n",
        "for movie in recommended_movies:\n",
        "    print(movie)\n"
      ]
    }
  ]
}